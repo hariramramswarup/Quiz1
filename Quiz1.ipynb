{
 "cells": [
  {
   "cell_type": "markdown",
   "id": "b55c7a67",
   "metadata": {},
   "source": [
    "# Q1. Create one variable containing following type of data:\n",
    "(i) string\n",
    "(ii) list\n",
    "(iii) float\n",
    "(iv) tuple"
   ]
  },
  {
   "cell_type": "code",
   "execution_count": 1,
   "id": "1ed13144",
   "metadata": {},
   "outputs": [],
   "source": [
    "string = \"Hello World\""
   ]
  },
  {
   "cell_type": "code",
   "execution_count": 2,
   "id": "25ae460c",
   "metadata": {},
   "outputs": [],
   "source": [
    "list = [1, 'String', 3.4]"
   ]
  },
  {
   "cell_type": "code",
   "execution_count": 3,
   "id": "e2e327a3",
   "metadata": {},
   "outputs": [],
   "source": [
    "float = 3.2"
   ]
  },
  {
   "cell_type": "code",
   "execution_count": 4,
   "id": "3832dedb",
   "metadata": {},
   "outputs": [],
   "source": [
    "tuple = (1, \"Hello\", 3.4)"
   ]
  },
  {
   "cell_type": "markdown",
   "id": "58a39821",
   "metadata": {},
   "source": [
    "# Q2. Given are some following variables containing data:\n",
    "# (i) var1 = ‘ ‘\n",
    "(ii) var2 = ‘[ DS , ML , Python]’\n",
    "(iii) var3 = [ ‘DS’ , ’ML’ , ‘Python’ ]\n",
    "(iv) var4 = 1.\n",
    "What will be the data type of the above given variable."
   ]
  },
  {
   "cell_type": "code",
   "execution_count": 12,
   "id": "3cb22653",
   "metadata": {
    "scrolled": false
   },
   "outputs": [
    {
     "ename": "SyntaxError",
     "evalue": "invalid syntax (615333643.py, line 1)",
     "output_type": "error",
     "traceback": [
      "\u001b[1;36m  Cell \u001b[1;32mIn[12], line 1\u001b[1;36m\u001b[0m\n\u001b[1;33m    1. String\u001b[0m\n\u001b[1;37m       ^\u001b[0m\n\u001b[1;31mSyntaxError\u001b[0m\u001b[1;31m:\u001b[0m invalid syntax\n"
     ]
    }
   ],
   "source": [
    "1. String\n",
    "2. String\n",
    "3. List\n",
    "4. Integer"
   ]
  },
  {
   "cell_type": "markdown",
   "id": "0cc735a0",
   "metadata": {},
   "source": [
    "# Q3. Explain the use of the following operators using an example:\n",
    "(i) /\n",
    "(ii) %\n",
    "(iii) //\n",
    "(iv) **"
   ]
  },
  {
   "cell_type": "code",
   "execution_count": null,
   "id": "80a85400",
   "metadata": {},
   "outputs": [],
   "source": [
    "1. Divide\n",
    "2. Remainder\n",
    "3. Floor division\n",
    "4. Power"
   ]
  },
  {
   "cell_type": "markdown",
   "id": "faae35a5",
   "metadata": {},
   "source": [
    "# Q4. Create a list of length 10 of your choice containing multiple types of data. Using for loop print the element and its data type."
   ]
  },
  {
   "cell_type": "code",
   "execution_count": 23,
   "id": "0e71e847",
   "metadata": {},
   "outputs": [],
   "source": [
    "lists = [1, True, 3.5, 'Hello', ['I', 2, 3.5], ('tuple', 2), {'name':'Hari'}, '2023', 'Ram', False]"
   ]
  },
  {
   "cell_type": "code",
   "execution_count": 27,
   "id": "f568e5a1",
   "metadata": {},
   "outputs": [
    {
     "name": "stdout",
     "output_type": "stream",
     "text": [
      "<class 'int'>\n",
      "<class 'bool'>\n",
      "<class 'float'>\n",
      "<class 'str'>\n",
      "<class 'list'>\n",
      "<class 'tuple'>\n",
      "<class 'dict'>\n",
      "<class 'str'>\n",
      "<class 'str'>\n",
      "<class 'bool'>\n"
     ]
    }
   ],
   "source": [
    "for list in lists:\n",
    "    print(type(list))"
   ]
  },
  {
   "cell_type": "markdown",
   "id": "07d87529",
   "metadata": {},
   "source": [
    "# 'Q5. Using a while loop, verify if the number A is purely divisible by number B and if so then how many times it can be divisible.'"
   ]
  },
  {
   "cell_type": "code",
   "execution_count": null,
   "id": "f036540e",
   "metadata": {},
   "outputs": [],
   "source": [
    "while A%B == 0:\n",
    "    divisible_times= A/B\n",
    "    print(divisible_times)"
   ]
  },
  {
   "cell_type": "markdown",
   "id": "246a81d3",
   "metadata": {},
   "source": [
    "# Q6. Create a list containing 25 int type data. Using for loop and if-else condition print if the element is divisible by 3 or not."
   ]
  },
  {
   "cell_type": "code",
   "execution_count": 28,
   "id": "95a70cc7",
   "metadata": {},
   "outputs": [
    {
     "name": "stdout",
     "output_type": "stream",
     "text": [
      "12Number is Divisible by 3.\n",
      "45Number is Divisible by 3.\n",
      "78Number is Divisible by 3.\n",
      "32Number is Not Divisible by 3.\n",
      "56Number is Not Divisible by 3.\n",
      "90Number is Divisible by 3.\n",
      "23Number is Not Divisible by 3.\n",
      "67Number is Not Divisible by 3.\n",
      "89Number is Not Divisible by 3.\n",
      "43Number is Not Divisible by 3.\n",
      "21Number is Divisible by 3.\n",
      "76Number is Not Divisible by 3.\n",
      "98Number is Not Divisible by 3.\n",
      "54Number is Divisible by 3.\n",
      "34Number is Not Divisible by 3.\n",
      "87Number is Divisible by 3.\n",
      "65Number is Not Divisible by 3.\n",
      "31Number is Not Divisible by 3.\n",
      "76Number is Not Divisible by 3.\n",
      "98Number is Not Divisible by 3.\n",
      "23Number is Not Divisible by 3.\n",
      "56Number is Not Divisible by 3.\n",
      "78Number is Divisible by 3.\n",
      "32Number is Not Divisible by 3.\n",
      "45Number is Divisible by 3.\n"
     ]
    }
   ],
   "source": [
    "my_list = [12, 45, 78, 32, 56, 90, 23, 67, 89, 43, 21, 76, 98, 54, 34, 87, 65, 31, 76, 98, 23, 56, 78, 32, 45]\n",
    "for list in my_list:\n",
    "    if list%3 ==0:\n",
    "        print(str(list) + \"Number is Divisible by 3.\")\n",
    "    else:\n",
    "        print(str(list) + \"Number is Not Divisible by 3.\")"
   ]
  },
  {
   "cell_type": "markdown",
   "id": "4e32eb81",
   "metadata": {},
   "source": [
    "# Q7. What do you understand about mutable and immutable data types? Give examples for both showing this property."
   ]
  },
  {
   "cell_type": "code",
   "execution_count": null,
   "id": "8565f2f7",
   "metadata": {},
   "outputs": [],
   "source": [
    "1. Mutable datatypes means the data or value stored can be changed.\n",
    "Example: List\n",
    "2. Immutable data types means the data or value stored can not be changed.\n",
    "Example : Tuple"
   ]
  }
 ],
 "metadata": {
  "kernelspec": {
   "display_name": "Python 3 (ipykernel)",
   "language": "python",
   "name": "python3"
  },
  "language_info": {
   "codemirror_mode": {
    "name": "ipython",
    "version": 3
   },
   "file_extension": ".py",
   "mimetype": "text/x-python",
   "name": "python",
   "nbconvert_exporter": "python",
   "pygments_lexer": "ipython3",
   "version": "3.10.9"
  }
 },
 "nbformat": 4,
 "nbformat_minor": 5
}
